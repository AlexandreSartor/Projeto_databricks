{
 "cells": [
  {
   "cell_type": "code",
   "execution_count": 0,
   "metadata": {
    "application/vnd.databricks.v1+cell": {
     "cellMetadata": {
      "byteLimit": 2048000,
      "rowLimit": 10000
     },
     "inputWidgets": {},
     "nuid": "6a844461-7cb5-4302-aee4-d8965b598c00",
     "showTitle": false,
     "tableResultSettingsMap": {},
     "title": ""
    }
   },
   "outputs": [],
   "source": [
    "df_rome        = spark.read.format(\"delta\").table(\"silver.rome\")\n",
    "df_london      = spark.read.format(\"delta\").table(\"silver.london\")\n",
    "df_amsterdam   = spark.read.format(\"delta\").table(\"silver.amsterdam\")\n",
    "df_athens      = spark.read.format(\"delta\").table(\"silver.athens\")\n",
    "df_barcelona   = spark.read.format(\"delta\").table(\"silver.barcelona\")\n",
    "df_berlin      = spark.read.format(\"delta\").table(\"silver.berlin\")\n",
    "df_lisbon      = spark.read.format(\"delta\").table(\"silver.lisbon\")\n",
    "df_paris       = spark.read.format(\"delta\").table(\"silver.paris\")\n"
   ]
  },
  {
   "cell_type": "code",
   "execution_count": 0,
   "metadata": {
    "application/vnd.databricks.v1+cell": {
     "cellMetadata": {
      "byteLimit": 2048000,
      "implicitDf": true,
      "rowLimit": 10000
     },
     "inputWidgets": {},
     "nuid": "4fd919e1-80b3-44fc-8b0a-42dff0e124d8",
     "showTitle": false,
     "tableResultSettingsMap": {},
     "title": ""
    }
   },
   "outputs": [],
   "source": [
    "from pyspark.sql import functions as F\n",
    "\n",
    "def arredondar_dist_tamanho_indices(df):\n",
    "    \"\"\"\n",
    "    Arredonda colunas de:\n",
    "    - distâncias e metros\n",
    "    - capacidade e quartos\n",
    "    - índices normalizados\n",
    "    - preço total\n",
    "    \"\"\"\n",
    "    for c in df.columns:\n",
    "        lower_c = c.lower()\n",
    "        if any(k in lower_c for k in [\"dist\", \"metro\", \"capacit\", \"bedrooms\", \"normalizado\"]):\n",
    "            df = df.withColumn(c, F.round(F.col(c), 4))\n",
    "        elif \"preco_total_diario\" == lower_c:\n",
    "            df = df.withColumn(c, F.round(F.col(c), 2))\n",
    "    return df\n",
    "\n",
    "\n",
    "def converter_para_booleano(df, colunas):\n",
    "    \"\"\"Converte colunas 0/1 para booleano\"\"\"\n",
    "    for c in colunas:\n",
    "        if c in df.columns:\n",
    "            df = df.withColumn(c, F.col(c).cast(\"boolean\"))\n",
    "    return df\n",
    "\n",
    "def remover_colunas(df):\n",
    "    \"\"\"Remove colunas de quarto e auditoria.\"\"\"\n",
    "    colunas_para_remover = [\n",
    "        \"QUARTO_PRIVADO\", \"QUARTO_COMPARTILHADO\",\n",
    "        \"DATA_ARQUIVO_SILVER\", \"NOME_ARQUIVO_BRONZE\",\n",
    "        \"DATA_HORA_BRONZE\", \"NOME_ARQUIVO\",\n",
    "        \"INDICE_ATRACOES\", \"INDICE_RESTAURANTES\"\n",
    "    ]\n",
    "    existing = [c for c in colunas_para_remover if c in df.columns]\n",
    "    return df.drop(*existing)\n",
    "\n",
    "def gerar_gold(df, cidade):\n",
    "    \"\"\"\n",
    "    Prepara DataFrame Gold:\n",
    "    - Remove colunas de quarto e auditoria\n",
    "    - Converte para booleano\n",
    "    - Arredonda distâncias, tamanhos, índices normalizados e preço\n",
    "    - Cria coluna de avaliação média\n",
    "    - Adiciona coluna CIDADE\n",
    "    \"\"\"\n",
    "    df = remover_colunas(df)\n",
    "    df = converter_para_booleano(df, [\"IMOVEIS_ANFITRIAO\", \"HOSPEDAGEM_CORPORATIVA\"])\n",
    "    df = arredondar_dist_tamanho_indices(df)\n",
    "\n",
    "    if \"NOTA_LIMPEZA\" in df.columns and \"NOTA_SATISFACAO_HOSPEDES\" in df.columns:\n",
    "        df = df.withColumn(\n",
    "            \"AVALIACAO_MEDIA\",\n",
    "            F.round((F.col(\"NOTA_LIMPEZA\") + F.col(\"NOTA_SATISFACAO_HOSPEDES\")) / 2, 2)\n",
    "        )\n",
    "        df = df.drop(\"NOTA_LIMPEZA\", \"NOTA_SATISFACAO_HOSPEDES\")\n",
    "\n",
    "    df_gold = df.withColumn(\"CIDADE\", F.lit(cidade))\n",
    "    return df_gold\n"
   ]
  },
  {
   "cell_type": "code",
   "execution_count": 0,
   "metadata": {
    "application/vnd.databricks.v1+cell": {
     "cellMetadata": {
      "byteLimit": 2048000,
      "rowLimit": 10000
     },
     "inputWidgets": {},
     "nuid": "0ec63764-6082-4b18-b184-7627ff98ac4d",
     "showTitle": false,
     "tableResultSettingsMap": {},
     "title": ""
    }
   },
   "outputs": [],
   "source": [
    "cidades_dfs = {\n",
    "    \"rome\": df_rome,\n",
    "    \"london\": df_london,\n",
    "    \"amsterdam\": df_amsterdam,\n",
    "    \"athens\": df_athens,\n",
    "    \"barcelona\": df_barcelona,\n",
    "    \"berlin\": df_berlin,\n",
    "    \"lisbon\": df_lisbon,\n",
    "    \"paris\": df_paris\n",
    "}\n"
   ]
  },
  {
   "cell_type": "code",
   "execution_count": 0,
   "metadata": {
    "application/vnd.databricks.v1+cell": {
     "cellMetadata": {
      "byteLimit": 2048000,
      "rowLimit": 10000
     },
     "inputWidgets": {},
     "nuid": "2bd7e4c7-bda9-49a5-afed-e8ea785d906e",
     "showTitle": false,
     "tableResultSettingsMap": {},
     "title": ""
    }
   },
   "outputs": [],
   "source": [
    "for cidade, df in cidades_dfs.items():\n",
    "    df_gold = gerar_gold(df, cidade)\n",
    "    \n",
    "    # Aqui convertemos colunas específicas para boolean antes de salvar\n",
    "    df_gold = converter_para_booleano(df_gold, [\"IMOVEIS_ANFITRIAO\", \"HOSPEDAGEM_CORPORATIVA\"])\n",
    "    \n",
    "    df_gold.write.format(\"delta\") \\\n",
    "        .mode(\"overwrite\") \\\n",
    "        .option(\"overwriteSchema\", \"true\") \\\n",
    "        .saveAsTable(f\"gold.{cidade}\")\n",
    "\n"
   ]
  }
 ],
 "metadata": {
  "application/vnd.databricks.v1+notebook": {
   "computePreferences": null,
   "dashboards": [],
   "environmentMetadata": {
    "base_environment": "",
    "environment_version": "4"
   },
   "inputWidgetPreferences": null,
   "language": "python",
   "notebookMetadata": {
    "mostRecentlyExecutedCommandWithImplicitDF": {
     "commandId": -1,
     "dataframes": [
      "_sqldf"
     ]
    },
    "pythonIndentUnit": 4
   },
   "notebookName": "004",
   "widgets": {}
  },
  "language_info": {
   "name": "python"
  }
 },
 "nbformat": 4,
 "nbformat_minor": 0
}
