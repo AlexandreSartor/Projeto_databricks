{
 "cells": [
  {
   "cell_type": "code",
   "execution_count": 0,
   "metadata": {
    "application/vnd.databricks.v1+cell": {
     "cellMetadata": {
      "byteLimit": 2048000,
      "rowLimit": 10000
     },
     "inputWidgets": {},
     "nuid": "538d12da-9ce1-4f39-9865-e73c6da48d3e",
     "showTitle": false,
     "tableResultSettingsMap": {},
     "title": ""
    }
   },
   "outputs": [],
   "source": [
    "display(dbutils.fs.ls('/Volumes/workspace/landing/dados/'))"
   ]
  },
  {
   "cell_type": "code",
   "execution_count": 0,
   "metadata": {
    "application/vnd.databricks.v1+cell": {
     "cellMetadata": {
      "byteLimit": 2048000,
      "rowLimit": 10000
     },
     "inputWidgets": {},
     "nuid": "8f155551-1623-4318-8509-961a448d6fc7",
     "showTitle": false,
     "tableResultSettingsMap": {},
     "title": ""
    }
   },
   "outputs": [],
   "source": [
    "caminho_landing = '/Volumes/workspace/landing/dados'\n",
    "\n",
    "df_amsterdam  = spark.read.option(\"inferschema\", \"true\").option(\"header\", \"true\").csv(f\"{caminho_landing}/amsterdam_weekdays.csv\")\n",
    "df_athens     = spark.read.option(\"inferschema\", \"true\").option(\"header\", \"true\").csv(f\"{caminho_landing}/athens_weekdays.csv\")\n",
    "df_barcelona  = spark.read.option(\"inferschema\", \"true\").option(\"header\", \"true\").csv(f\"{caminho_landing}/barcelona_weekdays.csv\")\n",
    "df_berlin     = spark.read.option(\"inferschema\", \"true\").option(\"header\", \"true\").csv(f\"{caminho_landing}/berlin_weekdays.csv\")\n",
    "df_lisbon     = spark.read.option(\"inferschema\", \"true\").option(\"header\", \"true\").csv(f\"{caminho_landing}/lisbon_weekdays.csv\")\n",
    "df_london     = spark.read.option(\"inferschema\", \"true\").option(\"header\", \"true\").csv(f\"{caminho_landing}/london_weekdays.csv\")\n",
    "df_paris      = spark.read.option(\"inferschema\", \"true\").option(\"header\", \"true\").csv(f\"{caminho_landing}/paris_weekdays.csv\")\n",
    "df_rome       = spark.read.option(\"inferschema\", \"true\").option(\"header\", \"true\").csv(f\"{caminho_landing}/rome_weekdays.csv\")\n"
   ]
  },
  {
   "cell_type": "code",
   "execution_count": 0,
   "metadata": {
    "application/vnd.databricks.v1+cell": {
     "cellMetadata": {
      "byteLimit": 2048000,
      "rowLimit": 10000
     },
     "inputWidgets": {},
     "nuid": "a6854346-bf43-457b-9805-edfd83a6b530",
     "showTitle": false,
     "tableResultSettingsMap": {},
     "title": ""
    }
   },
   "outputs": [],
   "source": [
    "from pyspark.sql.functions import current_timestamp, lit\n",
    "\n",
    "df_amsterdam  = df_amsterdam.withColumn(\"data_hora_bronze\", current_timestamp()).withColumn(\"nome_arquivo\", lit(\"amsterdam_weekdays.csv\"))\n",
    "df_athens     = df_athens.withColumn(\"data_hora_bronze\", current_timestamp()).withColumn(\"nome_arquivo\", lit(\"athens_weekdays.csv\"))\n",
    "df_barcelona  = df_barcelona.withColumn(\"data_hora_bronze\", current_timestamp()).withColumn(\"nome_arquivo\", lit(\"barcelona_weekdays.csv\"))\n",
    "df_berlin     = df_berlin.withColumn(\"data_hora_bronze\", current_timestamp()).withColumn(\"nome_arquivo\", lit(\"berlin_weekdays.csv\"))\n",
    "df_lisbon     = df_lisbon.withColumn(\"data_hora_bronze\", current_timestamp()).withColumn(\"nome_arquivo\", lit(\"lisbon_weekdays.csv\"))\n",
    "df_london     = df_london.withColumn(\"data_hora_bronze\", current_timestamp()).withColumn(\"nome_arquivo\", lit(\"london_weekdays.csv\"))\n",
    "df_paris      = df_paris.withColumn(\"data_hora_bronze\", current_timestamp()).withColumn(\"nome_arquivo\", lit(\"paris_weekdays.csv\"))\n",
    "df_rome       = df_rome.withColumn(\"data_hora_bronze\", current_timestamp()).withColumn(\"nome_arquivo\", lit(\"rome_weekdays.csv\"))\n"
   ]
  },
  {
   "cell_type": "code",
   "execution_count": 0,
   "metadata": {
    "application/vnd.databricks.v1+cell": {
     "cellMetadata": {
      "byteLimit": 2048000,
      "rowLimit": 10000
     },
     "inputWidgets": {},
     "nuid": "0d739536-b590-4aa9-9edf-7f0d7598e1da",
     "showTitle": false,
     "tableResultSettingsMap": {},
     "title": ""
    }
   },
   "outputs": [],
   "source": [
    "df_amsterdam.write.format('delta').mode(\"overwrite\").saveAsTable(\"bronze.amsterdam\")\n",
    "df_athens.write.format('delta').mode(\"overwrite\").saveAsTable(\"bronze.athens\")\n",
    "df_barcelona.write.format('delta').mode(\"overwrite\").saveAsTable(\"bronze.barcelona\")\n",
    "df_berlin.write.format('delta').mode(\"overwrite\").saveAsTable(\"bronze.berlin\")\n",
    "df_lisbon.write.format('delta').mode(\"overwrite\").saveAsTable(\"bronze.lisbon\")\n",
    "df_london.write.format('delta').mode(\"overwrite\").saveAsTable(\"bronze.london\")\n",
    "df_paris.write.format('delta').mode(\"overwrite\").saveAsTable(\"bronze.paris\")\n",
    "df_rome.write.format('delta').mode(\"overwrite\").saveAsTable(\"bronze.rome\")\n"
   ]
  },
  {
   "cell_type": "code",
   "execution_count": 0,
   "metadata": {
    "application/vnd.databricks.v1+cell": {
     "cellMetadata": {
      "byteLimit": 2048000,
      "implicitDf": true,
      "rowLimit": 10000
     },
     "inputWidgets": {},
     "nuid": "bd8d28bf-2616-442a-8a2b-5ea4190dc051",
     "showTitle": false,
     "tableResultSettingsMap": {},
     "title": ""
    }
   },
   "outputs": [],
   "source": [
    "%sql\n",
    "SHOW TABLES IN bronze"
   ]
  },
  {
   "cell_type": "code",
   "execution_count": 0,
   "metadata": {
    "application/vnd.databricks.v1+cell": {
     "cellMetadata": {
      "byteLimit": 2048000,
      "rowLimit": 10000
     },
     "inputWidgets": {},
     "nuid": "45e4f466-7625-402c-9c89-f4bf603ebeb1",
     "showTitle": false,
     "tableResultSettingsMap": {},
     "title": ""
    }
   },
   "outputs": [],
   "source": []
  }
 ],
 "metadata": {
  "application/vnd.databricks.v1+notebook": {
   "computePreferences": null,
   "dashboards": [],
   "environmentMetadata": {
    "base_environment": "",
    "environment_version": "4"
   },
   "inputWidgetPreferences": null,
   "language": "python",
   "notebookMetadata": {
    "mostRecentlyExecutedCommandWithImplicitDF": {
     "commandId": 8894560876391260,
     "dataframes": [
      "_sqldf"
     ]
    },
    "pythonIndentUnit": 4
   },
   "notebookName": "002",
   "widgets": {}
  },
  "language_info": {
   "name": "python"
  }
 },
 "nbformat": 4,
 "nbformat_minor": 0
}
