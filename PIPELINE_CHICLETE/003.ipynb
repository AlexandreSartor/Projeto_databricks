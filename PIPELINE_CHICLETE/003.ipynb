{
 "cells": [
  {
   "cell_type": "code",
   "execution_count": 0,
   "metadata": {
    "application/vnd.databricks.v1+cell": {
     "cellMetadata": {
      "byteLimit": 2048000,
      "rowLimit": 10000
     },
     "inputWidgets": {},
     "nuid": "c7f91aea-9313-4c2b-8302-4d5bab7a4f64",
     "showTitle": false,
     "tableResultSettingsMap": {},
     "title": ""
    }
   },
   "outputs": [],
   "source": [
    "df_amsterdam  = spark.read.format(\"delta\").table(\"bronze.amsterdam\")\n",
    "df_athens     = spark.read.format(\"delta\").table(\"bronze.athens\")\n",
    "df_barcelona  = spark.read.format(\"delta\").table(\"bronze.barcelona\")\n",
    "df_berlin     = spark.read.format(\"delta\").table(\"bronze.berlin\")\n",
    "df_lisbon     = spark.read.format(\"delta\").table(\"bronze.lisbon\")\n",
    "df_london     = spark.read.format(\"delta\").table(\"bronze.london\")\n",
    "df_paris      = spark.read.format(\"delta\").table(\"bronze.paris\")\n",
    "df_rome       = spark.read.format(\"delta\").table(\"bronze.rome\")\n"
   ]
  },
  {
   "cell_type": "code",
   "execution_count": 0,
   "metadata": {
    "application/vnd.databricks.v1+cell": {
     "cellMetadata": {
      "byteLimit": 2048000,
      "rowLimit": 10000
     },
     "inputWidgets": {},
     "nuid": "9812c089-d9f3-4432-8933-0cb01a7cf299",
     "showTitle": false,
     "tableResultSettingsMap": {},
     "title": ""
    }
   },
   "outputs": [],
   "source": [
    "from pyspark.sql.functions import current_timestamp, lit\n",
    "\n",
    "df_amsterdam  = df_amsterdam.withColumn(\"data_hora_silver\", current_timestamp()).withColumn(\"nome_tabela\", lit(\"amsterdam\"))\n",
    "df_athens     = df_athens.withColumn(\"data_hora_silver\", current_timestamp()).withColumn(\"nome_tabela\", lit(\"athens\"))\n",
    "df_barcelona  = df_barcelona.withColumn(\"data_hora_silver\", current_timestamp()).withColumn(\"nome_tabela\", lit(\"barcelona\"))\n",
    "df_berlin     = df_berlin.withColumn(\"data_hora_silver\", current_timestamp()).withColumn(\"nome_tabela\", lit(\"berlin\"))\n",
    "df_lisbon     = df_lisbon.withColumn(\"data_hora_silver\", current_timestamp()).withColumn(\"nome_tabela\", lit(\"lisbon\"))\n",
    "df_london     = df_london.withColumn(\"data_hora_silver\", current_timestamp()).withColumn(\"nome_tabela\", lit(\"london\"))\n",
    "df_paris      = df_paris.withColumn(\"data_hora_silver\", current_timestamp()).withColumn(\"nome_tabela\", lit(\"paris\"))\n",
    "df_rome       = df_rome.withColumn(\"data_hora_silver\", current_timestamp()).withColumn(\"nome_tabela\", lit(\"rome\"))\n"
   ]
  },
  {
   "cell_type": "code",
   "execution_count": 0,
   "metadata": {
    "application/vnd.databricks.v1+cell": {
     "cellMetadata": {
      "byteLimit": 2048000,
      "rowLimit": 10000
     },
     "inputWidgets": {},
     "nuid": "8c5f7c2c-982a-4d32-8f61-6fe7e8f87800",
     "showTitle": false,
     "tableResultSettingsMap": {},
     "title": ""
    }
   },
   "outputs": [],
   "source": [
    "from pyspark.sql import functions as F\n",
    "\n",
    "# ---------- Helpers ----------\n",
    "def _apply_name_rules_ptbr(colname: str) -> str:\n",
    "    \"\"\"\n",
    "    Aplica regras de renomeação para nomes claros em PT-BR.\n",
    "    Substituições específicas para o seu dataset.\n",
    "    \"\"\"\n",
    "    col_map = {\n",
    "        \"_C0\": \"CODIGO\",\n",
    "        \"REALSUM\": \"PRECO_TOTAL_DIARIO\",\n",
    "        \"ROOM_TYPE\": \"TIPO_QUARTO\",\n",
    "        \"ROOM_SHARED\": \"QUARTO_COMPARTILHADO\",\n",
    "        \"ROOM_PRIVATE\": \"QUARTO_PRIVADO\",\n",
    "        \"PERSON_CAPACITY\": \"CAPACIDADE_MAXIMA\",\n",
    "        \"HOST_IS_SUPERHOST\": \"ANFITRIAO_SUPERHOST\",\n",
    "        \"MULTI\": \"IMOVEIS_ANFITRIAO\",\n",
    "        \"BIZ\": \"HOSPEDAGEM_CORPORATIVA\",\n",
    "        \"CLEANLINESS_RATING\": \"NOTA_LIMPEZA\",\n",
    "        \"GUEST_SATISFACTION_OVERALL\": \"NOTA_SATISFACAO_HOSPEDES\",\n",
    "        \"BEDROOMS\": \"NUMERO_QUARTOS\",\n",
    "        \"DIST\": \"DISTANCIA_CENTRO_KM\",\n",
    "        \"METRO_DIST\": \"DISTANCIA_METRO_KM\",\n",
    "        \"ATTR_INDEX\": \"INDICE_ATRACOES\",\n",
    "        \"ATTR_INDEX_NORM\": \"INDICE_ATRACOES_NORMALIZADO\",\n",
    "        \"REST_INDEX\": \"INDICE_RESTAURANTES\",\n",
    "        \"REST_INDEX_NORM\": \"INDICE_RESTAURANTES_NORMALIZADO\",\n",
    "        \"LNG\": \"LONGITUDE\",\n",
    "        \"LAT\": \"LATITUDE\",\n",
    "    }\n",
    "    return col_map.get(colname.upper(), colname.upper())\n",
    "\n",
    "\n",
    "\n",
    "# ---------- Core ----------\n",
    "def renomear_colunas_cidades(src_fqn: str, dest_fqn: str = None):\n",
    "    \"\"\"\n",
    "    Lê uma tabela Delta do metastore (Bronze), aplica nomes claros em PT-BR,\n",
    "    ajusta auditoria e salva como tabela Silver.\n",
    "    - src_fqn: 'schema.tabela' de origem (ex.: 'bronze.rome')\n",
    "    - dest_fqn: 'schema.tabela' de destino; se None, sobrescreve a própria origem\n",
    "    \"\"\"\n",
    "    dest_fqn = dest_fqn or src_fqn\n",
    "\n",
    "    # Lê como tabela managed\n",
    "    df = spark.read.format(\"delta\").table(src_fqn)\n",
    "\n",
    "    # Renomeia todas as colunas de uma vez\n",
    "    new_cols = [_apply_name_rules_ptbr(c) for c in df.columns]\n",
    "    df = df.toDF(*new_cols)\n",
    "\n",
    "    # Adiciona colunas de auditoria Silver\n",
    "    df = (\n",
    "        df\n",
    "        .withColumn(\"DATA_HORA_BRONZE\", F.lit(src_fqn))  # origem rastreável\n",
    "        .withColumn(\"DATA_ARQUIVO_SILVER\", F.current_timestamp())\n",
    "    )\n",
    "\n",
    "    # Salva como tabela managed Delta (sobrescrevendo destino)\n",
    "    df.write.format(\"delta\") \\\n",
    "    .mode(\"overwrite\") \\\n",
    "    .option(\"mergeSchema\", \"true\") \\\n",
    "    .saveAsTable(dest_fqn)\n",
    "\n",
    "\n",
    "    return dest_fqn\n"
   ]
  },
  {
   "cell_type": "code",
   "execution_count": 0,
   "metadata": {
    "application/vnd.databricks.v1+cell": {
     "cellMetadata": {
      "byteLimit": 2048000,
      "rowLimit": 10000
     },
     "inputWidgets": {},
     "nuid": "d812e5cb-63dd-43f2-ba52-90398836e20f",
     "showTitle": false,
     "tableResultSettingsMap": {},
     "title": ""
    }
   },
   "outputs": [],
   "source": [
    "renomear_colunas_cidades(\"bronze.rome\", \"silver.rome\")  \n",
    "renomear_colunas_cidades(\"bronze.amsterdam\", \"silver.amsterdam\")\n",
    "renomear_colunas_cidades(\"bronze.athens\", \"silver.athens\")\n",
    "renomear_colunas_cidades(\"bronze.barcelona\", \"silver.barcelona\")\n",
    "renomear_colunas_cidades(\"bronze.berlin\", \"silver.berlin\")\n",
    "renomear_colunas_cidades(\"bronze.lisbon\", \"silver.lisbon\")\n",
    "renomear_colunas_cidades(\"bronze.paris\", \"silver.paris\")\n",
    "renomear_colunas_cidades(\"bronze.london\", \"silver.london\")\n"
   ]
  },
  {
   "cell_type": "code",
   "execution_count": 0,
   "metadata": {
    "application/vnd.databricks.v1+cell": {
     "cellMetadata": {},
     "inputWidgets": {},
     "nuid": "b2acfc61-fc65-4952-b129-7b06c8f66427",
     "showTitle": false,
     "tableResultSettingsMap": {},
     "title": ""
    }
   },
   "outputs": [],
   "source": []
  }
 ],
 "metadata": {
  "application/vnd.databricks.v1+notebook": {
   "computePreferences": null,
   "dashboards": [],
   "environmentMetadata": {
    "base_environment": "",
    "environment_version": "4"
   },
   "inputWidgetPreferences": null,
   "language": "python",
   "notebookMetadata": {
    "mostRecentlyExecutedCommandWithImplicitDF": {
     "commandId": -1,
     "dataframes": [
      "_sqldf"
     ]
    },
    "pythonIndentUnit": 4
   },
   "notebookName": "003",
   "widgets": {}
  },
  "language_info": {
   "name": "python"
  }
 },
 "nbformat": 4,
 "nbformat_minor": 0
}
